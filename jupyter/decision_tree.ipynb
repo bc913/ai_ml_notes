{
 "cells": [
  {
   "cell_type": "markdown",
   "id": "871ae784-6f4f-4cfd-be73-a9f21822f61a",
   "metadata": {},
   "source": [
    "# Decision Trees"
   ]
  },
  {
   "cell_type": "markdown",
   "id": "2b16c6ab-ea94-4a79-8607-e992bf1d88aa",
   "metadata": {},
   "source": [
    "## Introduction"
   ]
  },
  {
   "cell_type": "markdown",
   "id": "364f27c9-ec09-4d54-9e16-0363837bdbf7",
   "metadata": {},
   "source": [
    "A desicion tree is a graphical representation of all the possible solutions to a decision based on certain conditions"
   ]
  },
  {
   "cell_type": "markdown",
   "id": "627f226f-3433-465b-8bcc-54ee263b0a3f",
   "metadata": {},
   "source": [
    "### How to determine splitting?"
   ]
  },
  {
   "cell_type": "markdown",
   "id": "d18074a0-80b5-410f-a061-7e00b6d2f874",
   "metadata": {},
   "source": [
    "There are different methodologies to determine how and where to split the tree.\n",
    "- Gini Index:\n",
    "- Information Gain:\n",
    "- Chi Square:\n",
    "- Reduction in Variance:"
   ]
  },
  {
   "cell_type": "markdown",
   "id": "29237818-a257-440a-949b-355dd682825b",
   "metadata": {},
   "source": [
    "**Entropy**: Metric to measure impurity. Lowest impurity is better to pick.\n",
    "\n",
    "**Information Gain**:\n",
    "\n",
    "**Gini Index**:"
   ]
  },
  {
   "cell_type": "markdown",
   "id": "17e10cb5-f16a-477b-b01b-05ffb2a4ba88",
   "metadata": {},
   "source": [
    "## References\n",
    "- [Decision Trees Explained ](https://towardsdatascience.com/decision-trees-explained-entropy-information-gain-gini-index-ccp-pruning-4d78070db36c)\n",
    "- [Gini Impurity and Entropy for Decision Tree](https://medium.com/@arpita.k20/gini-impurity-and-entropy-for-decision-tree-68eb139274d1)\n",
    "- [Decision Trees: Gini vs Entropy](https://quantdare.com/decision-trees-gini-vs-entropy/)"
   ]
  }
 ],
 "metadata": {
  "kernelspec": {
   "display_name": "Python 3 (ipykernel)",
   "language": "python",
   "name": "python3"
  },
  "language_info": {
   "codemirror_mode": {
    "name": "ipython",
    "version": 3
   },
   "file_extension": ".py",
   "mimetype": "text/x-python",
   "name": "python",
   "nbconvert_exporter": "python",
   "pygments_lexer": "ipython3",
   "version": "3.10.13"
  }
 },
 "nbformat": 4,
 "nbformat_minor": 5
}
