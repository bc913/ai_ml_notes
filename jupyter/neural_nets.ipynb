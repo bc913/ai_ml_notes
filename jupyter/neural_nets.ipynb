{
 "cells": [
  {
   "cell_type": "markdown",
   "id": "f62f8017-4917-497e-b790-77b5a8896ec3",
   "metadata": {},
   "source": [
    "# Neural Networks"
   ]
  },
  {
   "cell_type": "code",
   "execution_count": 7,
   "id": "097b291c-b5fa-4f28-8b9a-d58530239dce",
   "metadata": {},
   "outputs": [],
   "source": [
    "import numpy as np\n",
    "import pandas as pd\n",
    "import statistics\n",
    "import random\n",
    "import scipy"
   ]
  },
  {
   "cell_type": "markdown",
   "id": "f51fef7e-06f8-452f-9ee4-0da85c8bea46",
   "metadata": {},
   "source": [
    "## A Simple example"
   ]
  },
  {
   "cell_type": "code",
   "execution_count": 8,
   "id": "1365c8c8-9c69-493a-85be-98d051be7166",
   "metadata": {},
   "outputs": [],
   "source": [
    "class Neuron:\n",
    "    def __init__(self, weights, activation_func, bias = 0):\n",
    "        self.weights = weights\n",
    "        self.activation = activation_func\n",
    "        self.bias = bias\n",
    "    def output(self, x):\n",
    "        total = np.dot(self.weights, x)\n",
    "        return self.activation(total + self.bias)"
   ]
  },
  {
   "cell_type": "code",
   "execution_count": 9,
   "id": "e4569881-e5a2-4450-abde-2db8b42ceeff",
   "metadata": {},
   "outputs": [],
   "source": [
    "# Activation function\n",
    "def sigmoid(x):\n",
    "    return 1/(1+np.exp(-x))"
   ]
  },
  {
   "cell_type": "code",
   "execution_count": 10,
   "id": "16b71d07-1bd6-433e-b660-95ddd6960a63",
   "metadata": {},
   "outputs": [
    {
     "name": "stdout",
     "output_type": "stream",
     "text": [
      "0.9706877692486436\n"
     ]
    }
   ],
   "source": [
    "n = Neuron([0.2, 0.3, 0.4], sigmoid)\n",
    "# Inputs\n",
    "inp = np.array([2,1,7])\n",
    "result = n.output(inp)\n",
    "print(result)"
   ]
  },
  {
   "cell_type": "markdown",
   "id": "9b235cdc-8e7d-45ce-bada-1d2adbca999f",
   "metadata": {},
   "source": [
    "The purpose of training is to calculate (find) appropriate values for weights which is the outcome of the training."
   ]
  },
  {
   "cell_type": "markdown",
   "id": "a2f1a0ff-47c0-4144-8d46-5b388065713b",
   "metadata": {},
   "source": [
    "## Layers"
   ]
  },
  {
   "cell_type": "markdown",
   "id": "134b10da-f167-4047-8278-5471ca1c657f",
   "metadata": {},
   "source": [
    "- Input layer: Each input is represented as a node. However, they do NOT act as a node. The input and output value is same and equal. # of nodes = # features (columns)\n",
    "- Hidden layer(s): # layers and nodes are dependent on the complexity of the problem.\n",
    "    - If the problem is lineary separable: No layers needed.\n",
    "    - One layer is usually adequate and two layers are usually capable of solving most of the problems\n",
    "    - Number of nodes: ??? \n",
    "- Output layer: # of nodes depends on the problem we're trying to solve."
   ]
  },
  {
   "cell_type": "markdown",
   "id": "68da9ab6-2924-497a-bf1d-43ae926088c3",
   "metadata": {},
   "source": [
    "### Datasets in Supervised Neural Networks"
   ]
  },
  {
   "cell_type": "code",
   "execution_count": null,
   "id": "2ab16804-4358-45c5-9eab-ea9098568f56",
   "metadata": {},
   "outputs": [],
   "source": []
  }
 ],
 "metadata": {
  "kernelspec": {
   "display_name": "Python 3 (ipykernel)",
   "language": "python",
   "name": "python3"
  },
  "language_info": {
   "codemirror_mode": {
    "name": "ipython",
    "version": 3
   },
   "file_extension": ".py",
   "mimetype": "text/x-python",
   "name": "python",
   "nbconvert_exporter": "python",
   "pygments_lexer": "ipython3",
   "version": "3.10.13"
  }
 },
 "nbformat": 4,
 "nbformat_minor": 5
}
