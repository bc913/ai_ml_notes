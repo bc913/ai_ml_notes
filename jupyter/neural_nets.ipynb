{
 "cells": [
  {
   "cell_type": "markdown",
   "id": "f62f8017-4917-497e-b790-77b5a8896ec3",
   "metadata": {},
   "source": [
    "# Neural Networks"
   ]
  },
  {
   "cell_type": "code",
   "execution_count": 1,
   "id": "097b291c-b5fa-4f28-8b9a-d58530239dce",
   "metadata": {},
   "outputs": [],
   "source": [
    "import numpy as np\n",
    "import pandas as pd\n",
    "import statistics\n",
    "import random\n",
    "import scipy"
   ]
  },
  {
   "cell_type": "markdown",
   "id": "f51fef7e-06f8-452f-9ee4-0da85c8bea46",
   "metadata": {},
   "source": [
    "## A Simple example"
   ]
  },
  {
   "cell_type": "code",
   "execution_count": 2,
   "id": "1365c8c8-9c69-493a-85be-98d051be7166",
   "metadata": {},
   "outputs": [],
   "source": [
    "class Neuron:\n",
    "    def __init__(self, weights, activation_func, bias = 0):\n",
    "        self.weights = weights\n",
    "        self.activation = activation_func\n",
    "        self.bias = bias\n",
    "    def output(self, x):\n",
    "        total = np.dot(self.weights, x)\n",
    "        return self.activation(total + self.bias)"
   ]
  },
  {
   "cell_type": "code",
   "execution_count": 3,
   "id": "e4569881-e5a2-4450-abde-2db8b42ceeff",
   "metadata": {},
   "outputs": [],
   "source": [
    "# Activation function\n",
    "def sigmoid(x):\n",
    "    return 1/(1+np.exp(-x))"
   ]
  },
  {
   "cell_type": "code",
   "execution_count": 4,
   "id": "16b71d07-1bd6-433e-b660-95ddd6960a63",
   "metadata": {},
   "outputs": [
    {
     "name": "stdout",
     "output_type": "stream",
     "text": [
      "0.9706877692486436\n"
     ]
    }
   ],
   "source": [
    "n = Neuron([0.2, 0.3, 0.4], sigmoid)\n",
    "# Inputs\n",
    "inp = np.array([2,1,7])\n",
    "result = n.output(inp)\n",
    "print(result)"
   ]
  },
  {
   "cell_type": "markdown",
   "id": "9b235cdc-8e7d-45ce-bada-1d2adbca999f",
   "metadata": {},
   "source": [
    "The purpose of training is to calculate (find) appropriate values for weights which is the outcome of the training."
   ]
  },
  {
   "cell_type": "markdown",
   "id": "a2f1a0ff-47c0-4144-8d46-5b388065713b",
   "metadata": {},
   "source": [
    "## Layers"
   ]
  },
  {
   "cell_type": "markdown",
   "id": "134b10da-f167-4047-8278-5471ca1c657f",
   "metadata": {},
   "source": [
    "- Input layer: Each input is represented as a node. However, they do NOT act as a node. The input and output value is same and equal. # of nodes = # features\n",
    "- Hidden layer(s): # layers and nodes are dependent on the complexity of the problem.\n",
    "    - If the problem is lineary separable: No layers needed.\n",
    "    - One layer is usually adequate and two layers are usually capable of solving most of the problems\n",
    "    - Number of nodes: There are some guidelines available:\n",
    "        1. should be less than or equal to 2*input_layer_neuron_number\n",
    "        2.  \n",
    "- Output layer: # of nodes depends on the problem we're trying to solve.\n",
    "    - If it is a binary classification (or logistic regression) problem, single neuron is adequate. "
   ]
  },
  {
   "cell_type": "markdown",
   "id": "ac3f86fd-0659-4ce2-bb02-c28f0e2b0e96",
   "metadata": {},
   "source": [
    "### How to configure?\n",
    "- Only input and output layers are sufficient to solve Linearly seperable classification and/or simple regression problems.\n",
    "- The definition and the number of the hidden layer are dependent on the complexity of the problem. If there is more than two hidden layers, then the network is called as **deep learning**."
   ]
  },
  {
   "cell_type": "code",
   "execution_count": 5,
   "id": "d7a8dbbc-e560-48e2-9d9c-0b739d3cb7d4",
   "metadata": {},
   "outputs": [],
   "source": [
    "import numpy as np\n",
    "import scipy as sp\n",
    "import pandas as pd\n",
    "import seaborn as sns"
   ]
  },
  {
   "cell_type": "markdown",
   "id": "68da9ab6-2924-497a-bf1d-43ae926088c3",
   "metadata": {},
   "source": [
    "## Diabetes Example"
   ]
  },
  {
   "cell_type": "markdown",
   "id": "f4298a90-1feb-440f-b5a3-295b08674df7",
   "metadata": {},
   "source": [
    "### Load Data"
   ]
  },
  {
   "cell_type": "code",
   "execution_count": 6,
   "id": "958ea36f-64fc-41e3-b417-faa7019176ae",
   "metadata": {},
   "outputs": [],
   "source": [
    "diabetes_data = pd.read_csv('files/diabetes.csv')"
   ]
  },
  {
   "cell_type": "code",
   "execution_count": 7,
   "id": "e73255e2-25aa-4d41-8c1a-adedd4fef3e1",
   "metadata": {},
   "outputs": [
    {
     "data": {
      "text/html": [
       "<div>\n",
       "<style scoped>\n",
       "    .dataframe tbody tr th:only-of-type {\n",
       "        vertical-align: middle;\n",
       "    }\n",
       "\n",
       "    .dataframe tbody tr th {\n",
       "        vertical-align: top;\n",
       "    }\n",
       "\n",
       "    .dataframe thead th {\n",
       "        text-align: right;\n",
       "    }\n",
       "</style>\n",
       "<table border=\"1\" class=\"dataframe\">\n",
       "  <thead>\n",
       "    <tr style=\"text-align: right;\">\n",
       "      <th></th>\n",
       "      <th>Pregnancies</th>\n",
       "      <th>Glucose</th>\n",
       "      <th>BloodPressure</th>\n",
       "      <th>SkinThickness</th>\n",
       "      <th>Insulin</th>\n",
       "      <th>BMI</th>\n",
       "      <th>DiabetesPedigreeFunction</th>\n",
       "      <th>Age</th>\n",
       "      <th>Outcome</th>\n",
       "    </tr>\n",
       "  </thead>\n",
       "  <tbody>\n",
       "    <tr>\n",
       "      <th>0</th>\n",
       "      <td>6</td>\n",
       "      <td>148</td>\n",
       "      <td>72</td>\n",
       "      <td>35</td>\n",
       "      <td>0</td>\n",
       "      <td>33.6</td>\n",
       "      <td>0.627</td>\n",
       "      <td>50</td>\n",
       "      <td>1</td>\n",
       "    </tr>\n",
       "    <tr>\n",
       "      <th>1</th>\n",
       "      <td>1</td>\n",
       "      <td>85</td>\n",
       "      <td>66</td>\n",
       "      <td>29</td>\n",
       "      <td>0</td>\n",
       "      <td>26.6</td>\n",
       "      <td>0.351</td>\n",
       "      <td>31</td>\n",
       "      <td>0</td>\n",
       "    </tr>\n",
       "    <tr>\n",
       "      <th>2</th>\n",
       "      <td>8</td>\n",
       "      <td>183</td>\n",
       "      <td>64</td>\n",
       "      <td>0</td>\n",
       "      <td>0</td>\n",
       "      <td>23.3</td>\n",
       "      <td>0.672</td>\n",
       "      <td>32</td>\n",
       "      <td>1</td>\n",
       "    </tr>\n",
       "    <tr>\n",
       "      <th>3</th>\n",
       "      <td>1</td>\n",
       "      <td>89</td>\n",
       "      <td>66</td>\n",
       "      <td>23</td>\n",
       "      <td>94</td>\n",
       "      <td>28.1</td>\n",
       "      <td>0.167</td>\n",
       "      <td>21</td>\n",
       "      <td>0</td>\n",
       "    </tr>\n",
       "    <tr>\n",
       "      <th>4</th>\n",
       "      <td>0</td>\n",
       "      <td>137</td>\n",
       "      <td>40</td>\n",
       "      <td>35</td>\n",
       "      <td>168</td>\n",
       "      <td>43.1</td>\n",
       "      <td>2.288</td>\n",
       "      <td>33</td>\n",
       "      <td>1</td>\n",
       "    </tr>\n",
       "  </tbody>\n",
       "</table>\n",
       "</div>"
      ],
      "text/plain": [
       "   Pregnancies  Glucose  BloodPressure  SkinThickness  Insulin   BMI  \\\n",
       "0            6      148             72             35        0  33.6   \n",
       "1            1       85             66             29        0  26.6   \n",
       "2            8      183             64              0        0  23.3   \n",
       "3            1       89             66             23       94  28.1   \n",
       "4            0      137             40             35      168  43.1   \n",
       "\n",
       "   DiabetesPedigreeFunction  Age  Outcome  \n",
       "0                     0.627   50        1  \n",
       "1                     0.351   31        0  \n",
       "2                     0.672   32        1  \n",
       "3                     0.167   21        0  \n",
       "4                     2.288   33        1  "
      ]
     },
     "execution_count": 7,
     "metadata": {},
     "output_type": "execute_result"
    }
   ],
   "source": [
    "diabetes_data.head()"
   ]
  },
  {
   "cell_type": "markdown",
   "id": "f7424ab2-7a0f-4411-9a37-f4c5e493ce7d",
   "metadata": {},
   "source": [
    "### Extract Data"
   ]
  },
  {
   "cell_type": "code",
   "execution_count": 8,
   "id": "3164bf8b-90c3-44e5-98ec-2986429cf63b",
   "metadata": {},
   "outputs": [],
   "source": [
    "x_data = diabetes_data.drop('Outcome', axis=1)\n",
    "y_data = diabetes_data['Outcome']"
   ]
  },
  {
   "cell_type": "markdown",
   "id": "5fa0a612-9cf8-4087-a499-0cbcdf8c8586",
   "metadata": {},
   "source": [
    "### Split Data"
   ]
  },
  {
   "cell_type": "code",
   "execution_count": 9,
   "id": "66d7eeb3-ec04-435b-aaca-85fa878bce6b",
   "metadata": {},
   "outputs": [],
   "source": [
    "from sklearn.model_selection import train_test_split\n",
    "x_train, x_test, y_train, y_test = train_test_split(x_data, y_data, test_size=0.2, random_state=1)"
   ]
  },
  {
   "cell_type": "markdown",
   "id": "de3bb14b-08b4-47c9-bab0-20568a78e964",
   "metadata": {},
   "source": [
    "### Construct Neural Networks"
   ]
  },
  {
   "cell_type": "markdown",
   "id": "69aafff6-4db3-488f-b67d-bbb68b067ba5",
   "metadata": {},
   "source": [
    "1. Generate Model"
   ]
  },
  {
   "cell_type": "code",
   "execution_count": 10,
   "id": "10b1077c-ef83-42dd-8455-6f9396922a88",
   "metadata": {},
   "outputs": [
    {
     "name": "stderr",
     "output_type": "stream",
     "text": [
      "2024-07-08 20:27:25.544653: I tensorflow/core/platform/cpu_feature_guard.cc:193] This TensorFlow binary is optimized with oneAPI Deep Neural Network Library (oneDNN) to use the following CPU instructions in performance-critical operations:  SSE4.1 SSE4.2 AVX AVX2 FMA\n",
      "To enable them in other operations, rebuild TensorFlow with the appropriate compiler flags.\n"
     ]
    }
   ],
   "source": [
    "from tensorflow.keras.models import Sequential"
   ]
  },
  {
   "cell_type": "code",
   "execution_count": 11,
   "id": "672057b5-b15c-4eb7-85e3-c5db0a5b3773",
   "metadata": {},
   "outputs": [
    {
     "name": "stderr",
     "output_type": "stream",
     "text": [
      "2024-07-08 20:27:26.928333: I tensorflow/core/platform/cpu_feature_guard.cc:193] This TensorFlow binary is optimized with oneAPI Deep Neural Network Library (oneDNN) to use the following CPU instructions in performance-critical operations:  SSE4.1 SSE4.2 AVX AVX2 FMA\n",
      "To enable them in other operations, rebuild TensorFlow with the appropriate compiler flags.\n",
      "2024-07-08 20:27:26.930086: I tensorflow/core/common_runtime/process_util.cc:146] Creating new thread pool with default inter op setting: 2. Tune using inter_op_parallelism_threads for best performance.\n"
     ]
    }
   ],
   "source": [
    "model = Sequential()"
   ]
  },
  {
   "cell_type": "markdown",
   "id": "052b8869-488c-4b33-9ee1-6744f39d1bb0",
   "metadata": {},
   "source": [
    "2. Define Layers: **Dense** is the most frequently used layer class w/ the following API. Every neuron in the previous layer is connected to each neuron for the defined layer.\n",
    "    ```python\n",
    "    tensorflow.keras.layers.Dense(units, # Number of neurons\n",
    "        activation=None, # Activation function to be used by all neurons in the layer. Prefer tensorflow.keras.activations if function objects to be used\n",
    "        use_bias=True,\n",
    "        kernel_initializer='glorot_uniform', # How to define Initial values of weights\n",
    "        bias_initializer='zeros',\n",
    "        kernel_regularizer=None,\n",
    "        bias_regularizer=None,\n",
    "        activity_regularizer=None,\n",
    "        kernel_constraint=None,\n",
    "        bias_constraint=None,\n",
    "        **kwargs # input_dim or input_shape -> Defines neuron number for the input layer\n",
    "    )\n",
    "    ```\n",
    "   **NOTE**: Keras does NOT allow to explicitly define input layer using layer class. Input layer is added implicitly when the first layer is added to the model by passing `input_dim` or `input_shape`."
   ]
  },
  {
   "cell_type": "code",
   "execution_count": 12,
   "id": "bd4ca105-7c39-4c14-866a-9b9aed5e49fa",
   "metadata": {},
   "outputs": [],
   "source": [
    "from tensorflow.keras.layers import Dense"
   ]
  },
  {
   "cell_type": "code",
   "execution_count": 13,
   "id": "a88bd9af-4006-4187-9376-45914fef8b17",
   "metadata": {},
   "outputs": [],
   "source": [
    "model.add(Dense(100, input_dim=8, activation='relu', name='Hidden_1'))\n",
    "# First layer in the hidden layer with 16 neurons. This also defines the input layer with 8 neurons\n",
    "# relu activation is selected. Most of the time it is sufficient"
   ]
  },
  {
   "cell_type": "markdown",
   "id": "22f28884-d982-4a1a-978d-1b2530263e9d",
   "metadata": {},
   "source": [
    "Activation functions can be passed using `tensorflow.keras.activations` module. Let's add other modules using that module. Selection of activation functions:\n",
    "    - Binary Classification problems: `relu` for hidden layers and `sigmoid` for output layer"
   ]
  },
  {
   "cell_type": "code",
   "execution_count": 14,
   "id": "fbbda34f-839f-494f-a3b7-43f83cf99bd8",
   "metadata": {},
   "outputs": [],
   "source": [
    "from tensorflow.keras.activations import relu"
   ]
  },
  {
   "cell_type": "code",
   "execution_count": 15,
   "id": "ccb9bcaa-ea5e-48e0-b1eb-0cbf0cc165ca",
   "metadata": {},
   "outputs": [],
   "source": [
    "model.add(Dense(100, activation=relu, name='Hidden_2'))"
   ]
  },
  {
   "cell_type": "code",
   "execution_count": 16,
   "id": "4bbf98fa-2036-4ad1-8226-4cadcc35e678",
   "metadata": {},
   "outputs": [],
   "source": [
    "model.add(Dense(1, activation='sigmoid', name='Output'))"
   ]
  },
  {
   "cell_type": "code",
   "execution_count": 17,
   "id": "1f9dafcd-ebf6-4bb0-8844-497439067375",
   "metadata": {},
   "outputs": [
    {
     "name": "stdout",
     "output_type": "stream",
     "text": [
      "Model: \"sequential\"\n",
      "_________________________________________________________________\n",
      " Layer (type)                Output Shape              Param #   \n",
      "=================================================================\n",
      " Hidden_1 (Dense)            (None, 100)               900       \n",
      "                                                                 \n",
      " Hidden_2 (Dense)            (None, 100)               10100     \n",
      "                                                                 \n",
      " Output (Dense)              (None, 1)                 101       \n",
      "                                                                 \n",
      "=================================================================\n",
      "Total params: 11,101\n",
      "Trainable params: 11,101\n",
      "Non-trainable params: 0\n",
      "_________________________________________________________________\n"
     ]
    }
   ],
   "source": [
    "model.summary()"
   ]
  },
  {
   "cell_type": "markdown",
   "id": "442ecde3-13b0-497c-984e-7110d667e7d1",
   "metadata": {},
   "source": [
    "Param # = # weights + # bias"
   ]
  },
  {
   "cell_type": "markdown",
   "id": "bd60017d-ffaf-4eb1-8e37-39503c6f7de5",
   "metadata": {},
   "source": [
    "3. Model compilation: "
   ]
  }
 ],
 "metadata": {
  "kernelspec": {
   "display_name": "Python 3 (ipykernel)",
   "language": "python",
   "name": "python3"
  },
  "language_info": {
   "codemirror_mode": {
    "name": "ipython",
    "version": 3
   },
   "file_extension": ".py",
   "mimetype": "text/x-python",
   "name": "python",
   "nbconvert_exporter": "python",
   "pygments_lexer": "ipython3",
   "version": "3.10.13"
  }
 },
 "nbformat": 4,
 "nbformat_minor": 5
}
