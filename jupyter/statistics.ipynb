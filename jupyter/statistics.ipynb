{
 "cells": [
  {
   "cell_type": "code",
   "execution_count": null,
   "id": "bc804e90-7734-475b-9f0e-f1cc74fc6a8f",
   "metadata": {},
   "outputs": [],
   "source": []
  },
  {
   "cell_type": "markdown",
   "id": "7d22efd8-ac4b-4ead-b8a2-fd5701fcdfda",
   "metadata": {},
   "source": [
    "# Statistics"
   ]
  },
  {
   "cell_type": "code",
   "execution_count": 92,
   "id": "f08e8bd8-ae97-4083-a13e-0e23ced3e755",
   "metadata": {},
   "outputs": [],
   "source": [
    "import numpy as np\n",
    "import pandas as pd\n",
    "import statistics\n",
    "import random\n",
    "import scipy"
   ]
  },
  {
   "cell_type": "markdown",
   "id": "7117d54b-b768-4bc6-a023-bb360ab78c91",
   "metadata": {
    "jp-MarkdownHeadingCollapsed": true
   },
   "source": [
    "## Measures of Central Tendency (Mean, Median and Mode)"
   ]
  },
  {
   "cell_type": "markdown",
   "id": "76e6e4f7-2b1a-4a03-abb6-299424926d0b",
   "metadata": {},
   "source": [
    "### Mean - O(n)"
   ]
  },
  {
   "cell_type": "code",
   "execution_count": 93,
   "id": "23e4c021-2fa5-485f-a8d7-06545a6915e2",
   "metadata": {},
   "outputs": [
    {
     "data": {
      "text/plain": [
       "4.8"
      ]
     },
     "execution_count": 93,
     "metadata": {},
     "output_type": "execute_result"
    }
   ],
   "source": [
    "a = np.array([3, 6, 2,8,5])\n",
    "np.mean(a)"
   ]
  },
  {
   "cell_type": "code",
   "execution_count": 94,
   "id": "e6cbb73f-2764-4621-8d48-57c42be08bfc",
   "metadata": {},
   "outputs": [
    {
     "data": {
      "text/plain": [
       "5.0"
      ]
     },
     "execution_count": 94,
     "metadata": {},
     "output_type": "execute_result"
    }
   ],
   "source": [
    "a = np.array([[1,2,3], [4,5,6], [7,8,9]])\n",
    "np.mean(a)"
   ]
  },
  {
   "cell_type": "code",
   "execution_count": 95,
   "id": "34a636ed-0de4-410e-b4c3-8f52974129ba",
   "metadata": {},
   "outputs": [
    {
     "data": {
      "text/plain": [
       "array([4., 5., 6.])"
      ]
     },
     "execution_count": 95,
     "metadata": {},
     "output_type": "execute_result"
    }
   ],
   "source": [
    "np.mean(a, axis=0) #column-wise"
   ]
  },
  {
   "cell_type": "code",
   "execution_count": 96,
   "id": "2914d0a1-f1fc-44d2-b3ea-9b28c2e8efca",
   "metadata": {},
   "outputs": [
    {
     "data": {
      "text/plain": [
       "array([2., 5., 8.])"
      ]
     },
     "execution_count": 96,
     "metadata": {},
     "output_type": "execute_result"
    }
   ],
   "source": [
    "np.mean(a, axis=1)"
   ]
  },
  {
   "cell_type": "code",
   "execution_count": 97,
   "id": "28d24170-3717-4d04-830c-59ca483b1e2f",
   "metadata": {},
   "outputs": [
    {
     "data": {
      "text/plain": [
       "0    4.0\n",
       "1    5.0\n",
       "2    6.0\n",
       "dtype: float64"
      ]
     },
     "execution_count": 97,
     "metadata": {},
     "output_type": "execute_result"
    }
   ],
   "source": [
    "df = pd.DataFrame([[1,2,3], [4,5,6], [7,8,9]])\n",
    "df.mean() #df.mean(axis=0)"
   ]
  },
  {
   "cell_type": "code",
   "execution_count": 98,
   "id": "1d3685a0-62f2-4264-a244-494f27284e86",
   "metadata": {},
   "outputs": [
    {
     "data": {
      "text/plain": [
       "0    2.0\n",
       "1    5.0\n",
       "2    8.0\n",
       "dtype: float64"
      ]
     },
     "execution_count": 98,
     "metadata": {},
     "output_type": "execute_result"
    }
   ],
   "source": [
    "df.mean(axis=1)"
   ]
  },
  {
   "cell_type": "markdown",
   "id": "195df65f-0ffb-4b91-83d6-f1208f183ae8",
   "metadata": {},
   "source": [
    "### Median - O(n logn)\n",
    "Value in the middle of the ascending ordered array:\n",
    "- Odd: Element in the middle\n",
    "- Even: Average of the two elements in the middle"
   ]
  },
  {
   "cell_type": "markdown",
   "id": "02e56851-072d-47af-b26b-dea5bb43ea48",
   "metadata": {},
   "source": [
    "#### Numpy"
   ]
  },
  {
   "cell_type": "code",
   "execution_count": 99,
   "id": "a169af1e-387f-4203-8b1b-4ff562749b03",
   "metadata": {},
   "outputs": [],
   "source": [
    "a = np.array([[1,5,9,4],[3,8,4,7], [4,9,3,8]])"
   ]
  },
  {
   "cell_type": "code",
   "execution_count": 100,
   "id": "02ed0316-dfa1-478c-95a7-f35ad05435af",
   "metadata": {},
   "outputs": [
    {
     "data": {
      "text/plain": [
       "4.5"
      ]
     },
     "execution_count": 100,
     "metadata": {},
     "output_type": "execute_result"
    }
   ],
   "source": [
    "np.median(a)"
   ]
  },
  {
   "cell_type": "code",
   "execution_count": 101,
   "id": "b8ea5257-b720-4c6f-bc3b-55abdef1982d",
   "metadata": {},
   "outputs": [
    {
     "data": {
      "text/plain": [
       "array([3., 8., 4., 7.])"
      ]
     },
     "execution_count": 101,
     "metadata": {},
     "output_type": "execute_result"
    }
   ],
   "source": [
    "np.median(a, axis=0)"
   ]
  },
  {
   "cell_type": "code",
   "execution_count": 102,
   "id": "7819be0b-686c-405c-8ae7-d5d662c7b9b5",
   "metadata": {},
   "outputs": [
    {
     "data": {
      "text/plain": [
       "array([4.5, 5.5, 6. ])"
      ]
     },
     "execution_count": 102,
     "metadata": {},
     "output_type": "execute_result"
    }
   ],
   "source": [
    "np.median(a, axis=1)"
   ]
  },
  {
   "cell_type": "markdown",
   "id": "c15913ac-5207-4c77-9b33-703d2ca45dee",
   "metadata": {},
   "source": [
    "#### Pandas"
   ]
  },
  {
   "cell_type": "code",
   "execution_count": 103,
   "id": "d963b0ac-ad89-4d1c-8a28-7b680c537d73",
   "metadata": {},
   "outputs": [],
   "source": [
    "df = pd.DataFrame([[1,5,9,4],[3,8,4,7], [4,9,3,8]])"
   ]
  },
  {
   "cell_type": "code",
   "execution_count": 104,
   "id": "ecb29d5c-b9f9-454a-bef1-b994712cde5b",
   "metadata": {},
   "outputs": [
    {
     "data": {
      "text/plain": [
       "0    3.0\n",
       "1    8.0\n",
       "2    4.0\n",
       "3    7.0\n",
       "dtype: float64"
      ]
     },
     "execution_count": 104,
     "metadata": {},
     "output_type": "execute_result"
    }
   ],
   "source": [
    "df.median() #=axis=0"
   ]
  },
  {
   "cell_type": "code",
   "execution_count": 105,
   "id": "926c6993-0bdb-4e7f-a5a5-1f839d8e24ba",
   "metadata": {},
   "outputs": [
    {
     "data": {
      "text/plain": [
       "0    4.5\n",
       "1    5.5\n",
       "2    6.0\n",
       "dtype: float64"
      ]
     },
     "execution_count": 105,
     "metadata": {},
     "output_type": "execute_result"
    }
   ],
   "source": [
    "df.median(axis=1)"
   ]
  },
  {
   "cell_type": "markdown",
   "id": "df5be179-094b-4088-8343-b0c04507fb93",
   "metadata": {},
   "source": [
    "### Mode\n",
    "Most repetitive value in a data set."
   ]
  },
  {
   "cell_type": "code",
   "execution_count": 106,
   "id": "d7e01048-bdcf-4781-b61f-80833382b6d0",
   "metadata": {},
   "outputs": [],
   "source": [
    "a = [3, 5, 7, 3, 8, 150, 4, 7,  1, 7]"
   ]
  },
  {
   "cell_type": "code",
   "execution_count": 107,
   "id": "3ca60b22-fea1-4554-b2d3-98c71fc5cfb3",
   "metadata": {},
   "outputs": [
    {
     "data": {
      "text/plain": [
       "7"
      ]
     },
     "execution_count": 107,
     "metadata": {},
     "output_type": "execute_result"
    }
   ],
   "source": [
    "statistics.mode(a)"
   ]
  },
  {
   "cell_type": "code",
   "execution_count": 108,
   "id": "de00e3b1-c949-4767-a7b5-0b8f17e0b367",
   "metadata": {},
   "outputs": [],
   "source": [
    "a = [1, 2, 2, 1, 3, 3, 6, 8, 6]"
   ]
  },
  {
   "cell_type": "code",
   "execution_count": 109,
   "id": "39c7b52a-1af0-4aeb-8d2a-9d81cad58634",
   "metadata": {},
   "outputs": [
    {
     "data": {
      "text/plain": [
       "[1, 2, 3, 6]"
      ]
     },
     "execution_count": 109,
     "metadata": {},
     "output_type": "execute_result"
    }
   ],
   "source": [
    "statistics.multimode(a)"
   ]
  },
  {
   "cell_type": "code",
   "execution_count": 110,
   "id": "11ac4671-ef6e-4df7-a206-6ee2fdcf6291",
   "metadata": {},
   "outputs": [
    {
     "name": "stdout",
     "output_type": "stream",
     "text": [
      "[[2 5 9 4 4 6 3 3 7 5]\n",
      " [0 2 3 2 4 9 8 0 3 6]\n",
      " [6 5 3 1 0 0 5 9 7 6]\n",
      " [3 6 1 7 4 6 0 2 4 7]\n",
      " [2 3 5 2 5 4 7 7 5 3]\n",
      " [8 0 8 8 9 9 2 9 0 4]\n",
      " [8 6 3 9 6 6 2 9 0 9]\n",
      " [8 3 0 4 7 3 0 7 9 8]\n",
      " [8 2 5 9 4 4 7 3 7 7]\n",
      " [5 9 9 4 0 8 7 1 9 5]]\n"
     ]
    }
   ],
   "source": [
    "a = np.random.randint(0, 10, (10, 10))\n",
    "print(a)"
   ]
  },
  {
   "cell_type": "code",
   "execution_count": 111,
   "id": "d7174bdc-5054-430b-993d-f57c1eb77d1a",
   "metadata": {},
   "outputs": [
    {
     "name": "stdout",
     "output_type": "stream",
     "text": [
      "[8 2 3 4 4 6 7 9 7 5]\n",
      "[4 2 3 3 4 3 3 3 3 2]\n"
     ]
    }
   ],
   "source": [
    "mr0 = scipy.stats.mode(a, axis=0)\n",
    "print(mr0.mode)\n",
    "print(mr0.count)"
   ]
  },
  {
   "cell_type": "markdown",
   "id": "8ef6b001-0c19-4fd0-b43c-f309f2eb8f67",
   "metadata": {},
   "source": [
    "mr1 = scipy.stats.mode(a, axis=1)\n",
    "print(mr1.mode)\n",
    "print(mr1.count)"
   ]
  },
  {
   "cell_type": "markdown",
   "id": "ac8c6d00-c452-4b7a-91b4-4a3e15b4edfd",
   "metadata": {
    "jp-MarkdownHeadingCollapsed": true
   },
   "source": [
    "## Measures of Dispersion"
   ]
  },
  {
   "cell_type": "markdown",
   "id": "30a3b172-68f5-4cc8-9052-d7562ea3e155",
   "metadata": {},
   "source": [
    "### Standard Deviation\n",
    "is a measure of the amount of variation of a random variable expected about its mean. A low standard deviation indicates that the values tend to be close to the mean (also called the expected value) of the set, while a high standard deviation indicates that the values are spread out over a wider range. The standard deviation is commonly used in the determination of what constitutes an outlier and what does not. [Wikipedia]"
   ]
  },
  {
   "cell_type": "markdown",
   "id": "b2d8e5cf-464a-4cb0-9259-913c19e06a09",
   "metadata": {},
   "source": [
    "- **Population Standard Deviation** is calculated from every item in the population. (/N)\n",
    "- **Sample Standard Deviation** is calculated for a sample that is randomly selected from a population. (/(N-1))"
   ]
  },
  {
   "cell_type": "markdown",
   "id": "45976478-ff68-4613-8e2b-1bc0a05d2048",
   "metadata": {},
   "source": [
    "### Python Std lib"
   ]
  },
  {
   "cell_type": "code",
   "execution_count": 112,
   "id": "d2284007-89df-4cfc-9475-e4703d3b0d85",
   "metadata": {},
   "outputs": [
    {
     "data": {
      "text/plain": [
       "2.8284271247461903"
      ]
     },
     "execution_count": 112,
     "metadata": {},
     "output_type": "execute_result"
    }
   ],
   "source": [
    "a = [9, 4, 5, 2, 2, 6, 6, 8, 0, 8]\n",
    "statistics.pstdev(a) # Population std dev"
   ]
  },
  {
   "cell_type": "code",
   "execution_count": 113,
   "id": "8c1539ed-edeb-4f21-8e50-de38f0e79193",
   "metadata": {},
   "outputs": [
    {
     "data": {
      "text/plain": [
       "2.9814239699997196"
      ]
     },
     "execution_count": 113,
     "metadata": {},
     "output_type": "execute_result"
    }
   ],
   "source": [
    "statistics.stdev(a) # Samples std dev"
   ]
  },
  {
   "cell_type": "markdown",
   "id": "332a8a23-3937-4044-9e69-08973db0bd8a",
   "metadata": {},
   "source": [
    "#### Numpy"
   ]
  },
  {
   "cell_type": "code",
   "execution_count": 114,
   "id": "4fa31dcb-3ef8-4f22-9a1a-aa5382ca6541",
   "metadata": {},
   "outputs": [],
   "source": [
    "a = np.random.randint(0, 100, (10, 10))"
   ]
  },
  {
   "cell_type": "code",
   "execution_count": 115,
   "id": "caa4f51a-c506-41a3-a772-a9c7bf8d5ea6",
   "metadata": {},
   "outputs": [
    {
     "data": {
      "text/plain": [
       "array([27.13963891, 26.39337038, 28.54978108, 18.24938355, 28.50263146,\n",
       "       33.44861731, 31.45727261, 28.46067462, 19.81514572, 29.3318939 ])"
      ]
     },
     "execution_count": 115,
     "metadata": {},
     "output_type": "execute_result"
    }
   ],
   "source": [
    "np.std(a, axis=0) # Population std dev for each column ddof=0"
   ]
  },
  {
   "cell_type": "code",
   "execution_count": 116,
   "id": "b892bf6f-64e4-4a29-b0c3-1f722a5fd224",
   "metadata": {},
   "outputs": [
    {
     "data": {
      "text/plain": [
       "array([28.60769127, 27.82105518, 30.09411164, 19.23653931, 30.04441157,\n",
       "       35.25793843, 33.15887681, 30.00018518, 20.88699755, 30.91853094])"
      ]
     },
     "execution_count": 116,
     "metadata": {},
     "output_type": "execute_result"
    }
   ],
   "source": [
    "np.std(a, axis=0, ddof=1)# Sample std dev (divided by N-ddof) for each column"
   ]
  },
  {
   "cell_type": "markdown",
   "id": "9c7efa80-a52f-46d7-b917-9f3b6f78f093",
   "metadata": {},
   "source": [
    "#### Pandas"
   ]
  },
  {
   "cell_type": "code",
   "execution_count": 117,
   "id": "c8f18256-fc64-4017-aa8b-fa7eb306d76e",
   "metadata": {},
   "outputs": [],
   "source": [
    "s = pd.Series([1,2,3,4,5])"
   ]
  },
  {
   "cell_type": "code",
   "execution_count": 118,
   "id": "7dee2e5b-6302-49a0-9906-dbdfa9ce277f",
   "metadata": {},
   "outputs": [
    {
     "data": {
      "text/plain": [
       "1.5811388300841898"
      ]
     },
     "execution_count": 118,
     "metadata": {},
     "output_type": "execute_result"
    }
   ],
   "source": [
    "s.std() # ddof=1 -> Sample std dev"
   ]
  },
  {
   "cell_type": "code",
   "execution_count": 119,
   "id": "7d6c8c37-7861-49e7-a199-3e9892d2f683",
   "metadata": {},
   "outputs": [
    {
     "data": {
      "text/plain": [
       "1.4142135623730951"
      ]
     },
     "execution_count": 119,
     "metadata": {},
     "output_type": "execute_result"
    }
   ],
   "source": [
    "s.std(ddof=0) # Population std dev"
   ]
  },
  {
   "cell_type": "code",
   "execution_count": 120,
   "id": "61adba17-990b-467b-b838-a18e3aa2a3a3",
   "metadata": {},
   "outputs": [],
   "source": [
    "df = pd.DataFrame(np.random.randint(0, 100, (10, 10)))"
   ]
  },
  {
   "cell_type": "code",
   "execution_count": 121,
   "id": "2a3ffab1-ce2e-4642-b3fc-0a69751074c0",
   "metadata": {},
   "outputs": [
    {
     "data": {
      "text/plain": [
       "0    30.089681\n",
       "1    34.098061\n",
       "2    30.111644\n",
       "3    27.855979\n",
       "4    26.416325\n",
       "5    30.565231\n",
       "6    31.714876\n",
       "7    35.415157\n",
       "8    22.528007\n",
       "9    30.776073\n",
       "dtype: float64"
      ]
     },
     "execution_count": 121,
     "metadata": {},
     "output_type": "execute_result"
    }
   ],
   "source": [
    "df.std(axis=0)# ddof=1 -> Sample std dev"
   ]
  },
  {
   "cell_type": "code",
   "execution_count": 122,
   "id": "fa437afb-331e-4580-b0fc-dda5d292ce56",
   "metadata": {},
   "outputs": [
    {
     "data": {
      "text/plain": [
       "0    28.545578\n",
       "1    32.348261\n",
       "2    28.566414\n",
       "3    26.426502\n",
       "4    25.060726\n",
       "5    28.996724\n",
       "6    30.087373\n",
       "7    33.597768\n",
       "8    21.371944\n",
       "9    29.196746\n",
       "dtype: float64"
      ]
     },
     "execution_count": 122,
     "metadata": {},
     "output_type": "execute_result"
    }
   ],
   "source": [
    "df.std(axis=0, ddof=0) # Population std dev"
   ]
  },
  {
   "cell_type": "markdown",
   "id": "c45e3ce8-0460-40e5-880e-b55839bd04af",
   "metadata": {},
   "source": [
    "### Variance\n",
    "variance is the expected value of the squared deviation from the mean of a random variable. "
   ]
  },
  {
   "cell_type": "markdown",
   "id": "234dea57-a4b4-480f-b196-fb9e5739825e",
   "metadata": {},
   "source": [
    "#### Python std lib"
   ]
  },
  {
   "cell_type": "code",
   "execution_count": 123,
   "id": "0b3b9c4a-6724-4039-b76a-ab3384255e7c",
   "metadata": {},
   "outputs": [
    {
     "data": {
      "text/plain": [
       "2"
      ]
     },
     "execution_count": 123,
     "metadata": {},
     "output_type": "execute_result"
    }
   ],
   "source": [
    "a = np.array([1,2,3,4,5])\n",
    "statistics.pvariance(a) # population variance"
   ]
  },
  {
   "cell_type": "code",
   "execution_count": 124,
   "id": "42876e7f-5d90-454a-a5c0-c683ee5de532",
   "metadata": {},
   "outputs": [
    {
     "data": {
      "text/plain": [
       "2"
      ]
     },
     "execution_count": 124,
     "metadata": {},
     "output_type": "execute_result"
    }
   ],
   "source": [
    "statistics.variance(a)"
   ]
  },
  {
   "cell_type": "markdown",
   "id": "64753ba4-3e91-4590-8761-a600d1b6018a",
   "metadata": {},
   "source": [
    "#### Numpy"
   ]
  },
  {
   "cell_type": "code",
   "execution_count": 125,
   "id": "74a46b7e-83c6-4c56-8f22-deb5624331ec",
   "metadata": {},
   "outputs": [
    {
     "data": {
      "text/plain": [
       "2.0"
      ]
     },
     "execution_count": 125,
     "metadata": {},
     "output_type": "execute_result"
    }
   ],
   "source": [
    "np.var(a) # Population variance"
   ]
  },
  {
   "cell_type": "code",
   "execution_count": 126,
   "id": "cba53293-0f43-48b7-9adb-429ad8e71325",
   "metadata": {},
   "outputs": [
    {
     "data": {
      "text/plain": [
       "2.5"
      ]
     },
     "execution_count": 126,
     "metadata": {},
     "output_type": "execute_result"
    }
   ],
   "source": [
    "np.var(a, ddof=1) #Samples variance (Bessel's correction)"
   ]
  },
  {
   "cell_type": "markdown",
   "id": "7d011768-b6fb-4f33-a20d-4224511c80ea",
   "metadata": {},
   "source": [
    "#### Pandas"
   ]
  },
  {
   "cell_type": "code",
   "execution_count": 127,
   "id": "54a036be-d5d7-442f-8d11-46c470131853",
   "metadata": {},
   "outputs": [],
   "source": [
    "s=pd.Series(a)"
   ]
  },
  {
   "cell_type": "code",
   "execution_count": 128,
   "id": "55ee6381-be80-4475-9882-681479a85058",
   "metadata": {},
   "outputs": [
    {
     "data": {
      "text/plain": [
       "2.5"
      ]
     },
     "execution_count": 128,
     "metadata": {},
     "output_type": "execute_result"
    }
   ],
   "source": [
    "s.var() # Samples variance  -> ddof=1"
   ]
  },
  {
   "cell_type": "code",
   "execution_count": 129,
   "id": "02483bb4-59c2-4e4a-8aef-0d56b8ebbd79",
   "metadata": {},
   "outputs": [
    {
     "data": {
      "text/plain": [
       "2.0"
      ]
     },
     "execution_count": 129,
     "metadata": {},
     "output_type": "execute_result"
    }
   ],
   "source": [
    "s.var(ddof=0) # population variance"
   ]
  },
  {
   "cell_type": "code",
   "execution_count": 130,
   "id": "10f0e2c8-c7fa-4c9e-b8ba-b3725665fa11",
   "metadata": {},
   "outputs": [],
   "source": [
    "b = np.random.randint(0,10,(10,10))"
   ]
  },
  {
   "cell_type": "code",
   "execution_count": 131,
   "id": "00f8608f-2473-4a23-957e-77bbbab58ad9",
   "metadata": {},
   "outputs": [],
   "source": [
    "df = pd.DataFrame(b)"
   ]
  },
  {
   "cell_type": "code",
   "execution_count": 132,
   "id": "ded7d08a-293e-4e9c-99be-73415a2da7b8",
   "metadata": {},
   "outputs": [
    {
     "data": {
      "text/plain": [
       "0     8.322222\n",
       "1     4.044444\n",
       "2    10.266667\n",
       "3    10.488889\n",
       "4    10.177778\n",
       "5     8.277778\n",
       "6     9.822222\n",
       "7     8.488889\n",
       "8    11.955556\n",
       "9     9.122222\n",
       "dtype: float64"
      ]
     },
     "execution_count": 132,
     "metadata": {},
     "output_type": "execute_result"
    }
   ],
   "source": [
    "df.var(axis=0) # ddof=1 so Samples variance"
   ]
  },
  {
   "cell_type": "code",
   "execution_count": 133,
   "id": "a091159d-87b0-4e3f-a94f-71ca5f5b789f",
   "metadata": {},
   "outputs": [
    {
     "data": {
      "text/plain": [
       "0     7.49\n",
       "1     3.64\n",
       "2     9.24\n",
       "3     9.44\n",
       "4     9.16\n",
       "5     7.45\n",
       "6     8.84\n",
       "7     7.64\n",
       "8    10.76\n",
       "9     8.21\n",
       "dtype: float64"
      ]
     },
     "execution_count": 133,
     "metadata": {},
     "output_type": "execute_result"
    }
   ],
   "source": [
    "df.var(axis=0, ddof=0) # population variance"
   ]
  },
  {
   "cell_type": "markdown",
   "id": "57df0099-6daa-4636-a6ff-f3ca81df7cf2",
   "metadata": {},
   "source": [
    "## Probability"
   ]
  },
  {
   "cell_type": "code",
   "execution_count": 134,
   "id": "5522554c-10c2-4f0e-bc3b-6adf7394f4a1",
   "metadata": {},
   "outputs": [],
   "source": [
    "def head_tail(n):\n",
    "    head = 0\n",
    "    for _ in range(n):\n",
    "        head += random.randint(0,1)\n",
    "    return head/n"
   ]
  },
  {
   "cell_type": "code",
   "execution_count": 139,
   "id": "4bf502ae-e0a6-4024-993e-f2a6854eae15",
   "metadata": {},
   "outputs": [
    {
     "name": "stdout",
     "output_type": "stream",
     "text": [
      "1.0\n",
      "0.5\n",
      "0.5\n",
      "0.51\n",
      "0.4993\n",
      "0.49946\n",
      "0.50095\n"
     ]
    }
   ],
   "source": [
    "# Law of large numbers\n",
    "print(head_tail(1))\n",
    "print(head_tail(10))\n",
    "print(head_tail(100))\n",
    "print(head_tail(1000))\n",
    "print(head_tail(10000))\n",
    "print(head_tail(100000))\n",
    "print(head_tail(1000000))"
   ]
  },
  {
   "cell_type": "markdown",
   "id": "aa243606-582f-44ab-baf7-f3adac93b83b",
   "metadata": {},
   "source": [
    "### Probability Density Function"
   ]
  },
  {
   "cell_type": "code",
   "execution_count": null,
   "id": "d0a94681-21b1-4d98-99fe-2865df524c6c",
   "metadata": {},
   "outputs": [],
   "source": []
  }
 ],
 "metadata": {
  "kernelspec": {
   "display_name": "Python 3 (ipykernel)",
   "language": "python",
   "name": "python3"
  },
  "language_info": {
   "codemirror_mode": {
    "name": "ipython",
    "version": 3
   },
   "file_extension": ".py",
   "mimetype": "text/x-python",
   "name": "python",
   "nbconvert_exporter": "python",
   "pygments_lexer": "ipython3",
   "version": "3.10.13"
  }
 },
 "nbformat": 4,
 "nbformat_minor": 5
}
