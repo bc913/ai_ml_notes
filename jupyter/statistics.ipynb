{
 "cells": [
  {
   "cell_type": "code",
   "execution_count": null,
   "id": "bc804e90-7734-475b-9f0e-f1cc74fc6a8f",
   "metadata": {},
   "outputs": [],
   "source": []
  },
  {
   "cell_type": "markdown",
   "id": "7d22efd8-ac4b-4ead-b8a2-fd5701fcdfda",
   "metadata": {},
   "source": [
    "# Statistics"
   ]
  },
  {
   "cell_type": "code",
   "execution_count": 1,
   "id": "f08e8bd8-ae97-4083-a13e-0e23ced3e755",
   "metadata": {},
   "outputs": [],
   "source": [
    "import numpy as np\n",
    "import pandas as pd"
   ]
  },
  {
   "cell_type": "markdown",
   "id": "7117d54b-b768-4bc6-a023-bb360ab78c91",
   "metadata": {},
   "source": [
    "## Mean, Median, Variance and Standard Deviation"
   ]
  },
  {
   "cell_type": "code",
   "execution_count": 5,
   "id": "23e4c021-2fa5-485f-a8d7-06545a6915e2",
   "metadata": {},
   "outputs": [
    {
     "data": {
      "text/plain": [
       "4.8"
      ]
     },
     "execution_count": 5,
     "metadata": {},
     "output_type": "execute_result"
    }
   ],
   "source": [
    "a = np.array([3, 6, 2,8,5])\n",
    "np.mean(a)"
   ]
  },
  {
   "cell_type": "code",
   "execution_count": 6,
   "id": "e6cbb73f-2764-4621-8d48-57c42be08bfc",
   "metadata": {},
   "outputs": [
    {
     "data": {
      "text/plain": [
       "5.0"
      ]
     },
     "execution_count": 6,
     "metadata": {},
     "output_type": "execute_result"
    }
   ],
   "source": [
    "a = np.array([[1,2,3], [4,5,6], [7,8,9]])\n",
    "np.mean(a)"
   ]
  },
  {
   "cell_type": "code",
   "execution_count": null,
   "id": "34a636ed-0de4-410e-b4c3-8f52974129ba",
   "metadata": {},
   "outputs": [],
   "source": []
  }
 ],
 "metadata": {
  "kernelspec": {
   "display_name": "Python 3 (ipykernel)",
   "language": "python",
   "name": "python3"
  },
  "language_info": {
   "codemirror_mode": {
    "name": "ipython",
    "version": 3
   },
   "file_extension": ".py",
   "mimetype": "text/x-python",
   "name": "python",
   "nbconvert_exporter": "python",
   "pygments_lexer": "ipython3",
   "version": "3.10.13"
  }
 },
 "nbformat": 4,
 "nbformat_minor": 5
}
