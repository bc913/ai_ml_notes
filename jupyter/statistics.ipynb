{
 "cells": [
  {
   "cell_type": "code",
   "execution_count": null,
   "id": "bc804e90-7734-475b-9f0e-f1cc74fc6a8f",
   "metadata": {},
   "outputs": [],
   "source": []
  },
  {
   "cell_type": "markdown",
   "id": "7d22efd8-ac4b-4ead-b8a2-fd5701fcdfda",
   "metadata": {},
   "source": [
    "# Statistics"
   ]
  },
  {
   "cell_type": "code",
   "execution_count": 21,
   "id": "f08e8bd8-ae97-4083-a13e-0e23ced3e755",
   "metadata": {},
   "outputs": [],
   "source": [
    "import numpy as np\n",
    "import pandas as pd\n",
    "import statistics\n",
    "import scipy"
   ]
  },
  {
   "cell_type": "markdown",
   "id": "7117d54b-b768-4bc6-a023-bb360ab78c91",
   "metadata": {},
   "source": [
    "## Measures of Central Tendency (Mean, Median and Mode)"
   ]
  },
  {
   "cell_type": "markdown",
   "id": "76e6e4f7-2b1a-4a03-abb6-299424926d0b",
   "metadata": {},
   "source": [
    "### Mean - O(n)"
   ]
  },
  {
   "cell_type": "code",
   "execution_count": 2,
   "id": "23e4c021-2fa5-485f-a8d7-06545a6915e2",
   "metadata": {},
   "outputs": [
    {
     "data": {
      "text/plain": [
       "4.8"
      ]
     },
     "execution_count": 2,
     "metadata": {},
     "output_type": "execute_result"
    }
   ],
   "source": [
    "a = np.array([3, 6, 2,8,5])\n",
    "np.mean(a)"
   ]
  },
  {
   "cell_type": "code",
   "execution_count": 3,
   "id": "e6cbb73f-2764-4621-8d48-57c42be08bfc",
   "metadata": {},
   "outputs": [
    {
     "data": {
      "text/plain": [
       "5.0"
      ]
     },
     "execution_count": 3,
     "metadata": {},
     "output_type": "execute_result"
    }
   ],
   "source": [
    "a = np.array([[1,2,3], [4,5,6], [7,8,9]])\n",
    "np.mean(a)"
   ]
  },
  {
   "cell_type": "code",
   "execution_count": 4,
   "id": "34a636ed-0de4-410e-b4c3-8f52974129ba",
   "metadata": {},
   "outputs": [
    {
     "data": {
      "text/plain": [
       "array([4., 5., 6.])"
      ]
     },
     "execution_count": 4,
     "metadata": {},
     "output_type": "execute_result"
    }
   ],
   "source": [
    "np.mean(a, axis=0) #column-wise"
   ]
  },
  {
   "cell_type": "code",
   "execution_count": 5,
   "id": "2914d0a1-f1fc-44d2-b3ea-9b28c2e8efca",
   "metadata": {},
   "outputs": [
    {
     "data": {
      "text/plain": [
       "array([2., 5., 8.])"
      ]
     },
     "execution_count": 5,
     "metadata": {},
     "output_type": "execute_result"
    }
   ],
   "source": [
    "np.mean(a, axis=1)"
   ]
  },
  {
   "cell_type": "code",
   "execution_count": 6,
   "id": "28d24170-3717-4d04-830c-59ca483b1e2f",
   "metadata": {},
   "outputs": [
    {
     "data": {
      "text/plain": [
       "0    4.0\n",
       "1    5.0\n",
       "2    6.0\n",
       "dtype: float64"
      ]
     },
     "execution_count": 6,
     "metadata": {},
     "output_type": "execute_result"
    }
   ],
   "source": [
    "df = pd.DataFrame([[1,2,3], [4,5,6], [7,8,9]])\n",
    "df.mean() #df.mean(axis=0)"
   ]
  },
  {
   "cell_type": "code",
   "execution_count": 7,
   "id": "1d3685a0-62f2-4264-a244-494f27284e86",
   "metadata": {},
   "outputs": [
    {
     "data": {
      "text/plain": [
       "0    2.0\n",
       "1    5.0\n",
       "2    8.0\n",
       "dtype: float64"
      ]
     },
     "execution_count": 7,
     "metadata": {},
     "output_type": "execute_result"
    }
   ],
   "source": [
    "df.mean(axis=1)"
   ]
  },
  {
   "cell_type": "markdown",
   "id": "195df65f-0ffb-4b91-83d6-f1208f183ae8",
   "metadata": {},
   "source": [
    "### Median - O(n logn)\n",
    "Value in the middle of the ascending ordered array:\n",
    "- Odd: Element in the middle\n",
    "- Even: Average of the two elements in the middle"
   ]
  },
  {
   "cell_type": "markdown",
   "id": "02e56851-072d-47af-b26b-dea5bb43ea48",
   "metadata": {},
   "source": [
    "#### Numpy"
   ]
  },
  {
   "cell_type": "code",
   "execution_count": 8,
   "id": "a169af1e-387f-4203-8b1b-4ff562749b03",
   "metadata": {},
   "outputs": [],
   "source": [
    "a = np.array([[1,5,9,4],[3,8,4,7], [4,9,3,8]])"
   ]
  },
  {
   "cell_type": "code",
   "execution_count": 9,
   "id": "02ed0316-dfa1-478c-95a7-f35ad05435af",
   "metadata": {},
   "outputs": [
    {
     "data": {
      "text/plain": [
       "4.5"
      ]
     },
     "execution_count": 9,
     "metadata": {},
     "output_type": "execute_result"
    }
   ],
   "source": [
    "np.median(a)"
   ]
  },
  {
   "cell_type": "code",
   "execution_count": 10,
   "id": "b8ea5257-b720-4c6f-bc3b-55abdef1982d",
   "metadata": {},
   "outputs": [
    {
     "data": {
      "text/plain": [
       "array([3., 8., 4., 7.])"
      ]
     },
     "execution_count": 10,
     "metadata": {},
     "output_type": "execute_result"
    }
   ],
   "source": [
    "np.median(a, axis=0)"
   ]
  },
  {
   "cell_type": "code",
   "execution_count": 11,
   "id": "7819be0b-686c-405c-8ae7-d5d662c7b9b5",
   "metadata": {},
   "outputs": [
    {
     "data": {
      "text/plain": [
       "array([4.5, 5.5, 6. ])"
      ]
     },
     "execution_count": 11,
     "metadata": {},
     "output_type": "execute_result"
    }
   ],
   "source": [
    "np.median(a, axis=1)"
   ]
  },
  {
   "cell_type": "markdown",
   "id": "c15913ac-5207-4c77-9b33-703d2ca45dee",
   "metadata": {},
   "source": [
    "#### Pandas"
   ]
  },
  {
   "cell_type": "code",
   "execution_count": 12,
   "id": "d963b0ac-ad89-4d1c-8a28-7b680c537d73",
   "metadata": {},
   "outputs": [],
   "source": [
    "df = pd.DataFrame([[1,5,9,4],[3,8,4,7], [4,9,3,8]])"
   ]
  },
  {
   "cell_type": "code",
   "execution_count": 13,
   "id": "ecb29d5c-b9f9-454a-bef1-b994712cde5b",
   "metadata": {},
   "outputs": [
    {
     "data": {
      "text/plain": [
       "0    3.0\n",
       "1    8.0\n",
       "2    4.0\n",
       "3    7.0\n",
       "dtype: float64"
      ]
     },
     "execution_count": 13,
     "metadata": {},
     "output_type": "execute_result"
    }
   ],
   "source": [
    "df.median() #=axis=0"
   ]
  },
  {
   "cell_type": "code",
   "execution_count": 14,
   "id": "926c6993-0bdb-4e7f-a5a5-1f839d8e24ba",
   "metadata": {},
   "outputs": [
    {
     "data": {
      "text/plain": [
       "0    4.5\n",
       "1    5.5\n",
       "2    6.0\n",
       "dtype: float64"
      ]
     },
     "execution_count": 14,
     "metadata": {},
     "output_type": "execute_result"
    }
   ],
   "source": [
    "df.median(axis=1)"
   ]
  },
  {
   "cell_type": "markdown",
   "id": "df5be179-094b-4088-8343-b0c04507fb93",
   "metadata": {},
   "source": [
    "### Mode\n",
    "Most repetitive value in a data set."
   ]
  },
  {
   "cell_type": "code",
   "execution_count": 15,
   "id": "d7e01048-bdcf-4781-b61f-80833382b6d0",
   "metadata": {},
   "outputs": [],
   "source": [
    "a = [3, 5, 7, 3, 8, 150, 4, 7,  1, 7]"
   ]
  },
  {
   "cell_type": "code",
   "execution_count": 18,
   "id": "3ca60b22-fea1-4554-b2d3-98c71fc5cfb3",
   "metadata": {},
   "outputs": [
    {
     "data": {
      "text/plain": [
       "7"
      ]
     },
     "execution_count": 18,
     "metadata": {},
     "output_type": "execute_result"
    }
   ],
   "source": [
    "statistics.mode(a)"
   ]
  },
  {
   "cell_type": "code",
   "execution_count": 19,
   "id": "de00e3b1-c949-4767-a7b5-0b8f17e0b367",
   "metadata": {},
   "outputs": [],
   "source": [
    "a = [1, 2, 2, 1, 3, 3, 6, 8, 6]"
   ]
  },
  {
   "cell_type": "code",
   "execution_count": 20,
   "id": "39c7b52a-1af0-4aeb-8d2a-9d81cad58634",
   "metadata": {},
   "outputs": [
    {
     "data": {
      "text/plain": [
       "[1, 2, 3, 6]"
      ]
     },
     "execution_count": 20,
     "metadata": {},
     "output_type": "execute_result"
    }
   ],
   "source": [
    "statistics.multimode(a)"
   ]
  },
  {
   "cell_type": "code",
   "execution_count": 23,
   "id": "11ac4671-ef6e-4df7-a206-6ee2fdcf6291",
   "metadata": {},
   "outputs": [
    {
     "name": "stdout",
     "output_type": "stream",
     "text": [
      "[[8 4 1 2 8 6 5 6 0 5]\n",
      " [5 5 8 3 9 5 4 9 1 9]\n",
      " [5 4 7 4 2 4 8 8 6 4]\n",
      " [3 1 9 6 6 8 2 7 3 8]\n",
      " [7 3 3 4 4 1 1 9 8 0]\n",
      " [0 1 2 9 8 7 7 1 7 1]\n",
      " [1 7 3 2 0 6 6 7 9 8]\n",
      " [7 7 9 3 0 7 7 8 8 1]\n",
      " [9 0 4 9 9 8 5 4 8 3]\n",
      " [7 0 9 0 7 4 9 8 4 1]]\n"
     ]
    }
   ],
   "source": [
    "a = np.random.randint(0, 10, (10, 10))\n",
    "print(a)"
   ]
  },
  {
   "cell_type": "code",
   "execution_count": 26,
   "id": "d7174bdc-5054-430b-993d-f57c1eb77d1a",
   "metadata": {},
   "outputs": [
    {
     "name": "stdout",
     "output_type": "stream",
     "text": [
      "[7 0 9 2 0 4 5 8 8 1]\n",
      "[3 2 3 2 2 2 2 3 3 3]\n"
     ]
    }
   ],
   "source": [
    "mr0 = scipy.stats.mode(a, axis=0)\n",
    "print(mr0.mode)\n",
    "print(mr0.count)"
   ]
  },
  {
   "cell_type": "code",
   "execution_count": 27,
   "id": "05b09217-5e78-4a12-a33b-3a37843f8975",
   "metadata": {},
   "outputs": [
    {
     "name": "stdout",
     "output_type": "stream",
     "text": [
      "[5 5 4 3 1 1 6 7 9 0]\n",
      "[2 3 4 2 2 3 2 4 3 2]\n"
     ]
    }
   ],
   "source": [
    "mr1 = scipy.stats.mode(a, axis=1)\n",
    "print(mr1.mode)\n",
    "print(mr1.count)"
   ]
  },
  {
   "cell_type": "code",
   "execution_count": null,
   "id": "3327f397-eb30-47fd-8e2e-101a8724e120",
   "metadata": {},
   "outputs": [],
   "source": []
  }
 ],
 "metadata": {
  "kernelspec": {
   "display_name": "Python 3 (ipykernel)",
   "language": "python",
   "name": "python3"
  },
  "language_info": {
   "codemirror_mode": {
    "name": "ipython",
    "version": 3
   },
   "file_extension": ".py",
   "mimetype": "text/x-python",
   "name": "python",
   "nbconvert_exporter": "python",
   "pygments_lexer": "ipython3",
   "version": "3.10.13"
  }
 },
 "nbformat": 4,
 "nbformat_minor": 5
}
