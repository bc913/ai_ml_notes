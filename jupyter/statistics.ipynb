{
 "cells": [
  {
   "cell_type": "code",
   "execution_count": null,
   "id": "bc804e90-7734-475b-9f0e-f1cc74fc6a8f",
   "metadata": {},
   "outputs": [],
   "source": []
  },
  {
   "cell_type": "markdown",
   "id": "7d22efd8-ac4b-4ead-b8a2-fd5701fcdfda",
   "metadata": {},
   "source": [
    "# Statistics"
   ]
  },
  {
   "cell_type": "code",
   "execution_count": 1,
   "id": "f08e8bd8-ae97-4083-a13e-0e23ced3e755",
   "metadata": {},
   "outputs": [],
   "source": [
    "import numpy as np\n",
    "import pandas as pd"
   ]
  },
  {
   "cell_type": "markdown",
   "id": "7117d54b-b768-4bc6-a023-bb360ab78c91",
   "metadata": {},
   "source": [
    "## Mean, Median, Variance and Standard Deviation"
   ]
  },
  {
   "cell_type": "markdown",
   "id": "76e6e4f7-2b1a-4a03-abb6-299424926d0b",
   "metadata": {},
   "source": [
    "### Mean - O(n)"
   ]
  },
  {
   "cell_type": "code",
   "execution_count": 2,
   "id": "23e4c021-2fa5-485f-a8d7-06545a6915e2",
   "metadata": {},
   "outputs": [
    {
     "data": {
      "text/plain": [
       "4.8"
      ]
     },
     "execution_count": 2,
     "metadata": {},
     "output_type": "execute_result"
    }
   ],
   "source": [
    "a = np.array([3, 6, 2,8,5])\n",
    "np.mean(a)"
   ]
  },
  {
   "cell_type": "code",
   "execution_count": 3,
   "id": "e6cbb73f-2764-4621-8d48-57c42be08bfc",
   "metadata": {},
   "outputs": [
    {
     "data": {
      "text/plain": [
       "5.0"
      ]
     },
     "execution_count": 3,
     "metadata": {},
     "output_type": "execute_result"
    }
   ],
   "source": [
    "a = np.array([[1,2,3], [4,5,6], [7,8,9]])\n",
    "np.mean(a)"
   ]
  },
  {
   "cell_type": "code",
   "execution_count": 4,
   "id": "34a636ed-0de4-410e-b4c3-8f52974129ba",
   "metadata": {},
   "outputs": [
    {
     "data": {
      "text/plain": [
       "array([4., 5., 6.])"
      ]
     },
     "execution_count": 4,
     "metadata": {},
     "output_type": "execute_result"
    }
   ],
   "source": [
    "np.mean(a, axis=0) #column-wise"
   ]
  },
  {
   "cell_type": "code",
   "execution_count": 5,
   "id": "2914d0a1-f1fc-44d2-b3ea-9b28c2e8efca",
   "metadata": {},
   "outputs": [
    {
     "data": {
      "text/plain": [
       "array([2., 5., 8.])"
      ]
     },
     "execution_count": 5,
     "metadata": {},
     "output_type": "execute_result"
    }
   ],
   "source": [
    "np.mean(a, axis=1)"
   ]
  },
  {
   "cell_type": "code",
   "execution_count": 7,
   "id": "28d24170-3717-4d04-830c-59ca483b1e2f",
   "metadata": {},
   "outputs": [
    {
     "data": {
      "text/plain": [
       "0    4.0\n",
       "1    5.0\n",
       "2    6.0\n",
       "dtype: float64"
      ]
     },
     "execution_count": 7,
     "metadata": {},
     "output_type": "execute_result"
    }
   ],
   "source": [
    "df = pd.DataFrame([[1,2,3], [4,5,6], [7,8,9]])\n",
    "df.mean() #df.mean(axis=0)"
   ]
  },
  {
   "cell_type": "code",
   "execution_count": 8,
   "id": "1d3685a0-62f2-4264-a244-494f27284e86",
   "metadata": {},
   "outputs": [
    {
     "data": {
      "text/plain": [
       "0    2.0\n",
       "1    5.0\n",
       "2    8.0\n",
       "dtype: float64"
      ]
     },
     "execution_count": 8,
     "metadata": {},
     "output_type": "execute_result"
    }
   ],
   "source": [
    "df.mean(axis=1)"
   ]
  },
  {
   "cell_type": "markdown",
   "id": "195df65f-0ffb-4b91-83d6-f1208f183ae8",
   "metadata": {},
   "source": [
    "### Median - O(n logn)\n",
    "Value in the middle of the ascending ordered array:\n",
    "- Odd: Element in the middle\n",
    "- Even: Average of the two elements in the middle"
   ]
  },
  {
   "cell_type": "markdown",
   "id": "02e56851-072d-47af-b26b-dea5bb43ea48",
   "metadata": {},
   "source": [
    "#### Numpy"
   ]
  },
  {
   "cell_type": "code",
   "execution_count": 10,
   "id": "a169af1e-387f-4203-8b1b-4ff562749b03",
   "metadata": {},
   "outputs": [],
   "source": [
    "a = np.array([[1,5,9,4],[3,8,4,7], [4,9,3,8]])"
   ]
  },
  {
   "cell_type": "code",
   "execution_count": 11,
   "id": "02ed0316-dfa1-478c-95a7-f35ad05435af",
   "metadata": {},
   "outputs": [
    {
     "data": {
      "text/plain": [
       "4.5"
      ]
     },
     "execution_count": 11,
     "metadata": {},
     "output_type": "execute_result"
    }
   ],
   "source": [
    "np.median(a)"
   ]
  },
  {
   "cell_type": "code",
   "execution_count": 12,
   "id": "b8ea5257-b720-4c6f-bc3b-55abdef1982d",
   "metadata": {},
   "outputs": [
    {
     "data": {
      "text/plain": [
       "array([3., 8., 4., 7.])"
      ]
     },
     "execution_count": 12,
     "metadata": {},
     "output_type": "execute_result"
    }
   ],
   "source": [
    "np.median(a, axis=0)"
   ]
  },
  {
   "cell_type": "code",
   "execution_count": 13,
   "id": "7819be0b-686c-405c-8ae7-d5d662c7b9b5",
   "metadata": {},
   "outputs": [
    {
     "data": {
      "text/plain": [
       "array([4.5, 5.5, 6. ])"
      ]
     },
     "execution_count": 13,
     "metadata": {},
     "output_type": "execute_result"
    }
   ],
   "source": [
    "np.median(a, axis=1)"
   ]
  },
  {
   "cell_type": "markdown",
   "id": "c15913ac-5207-4c77-9b33-703d2ca45dee",
   "metadata": {},
   "source": [
    "#### Pandas"
   ]
  },
  {
   "cell_type": "code",
   "execution_count": 14,
   "id": "d963b0ac-ad89-4d1c-8a28-7b680c537d73",
   "metadata": {},
   "outputs": [],
   "source": [
    "df = pd.DataFrame([[1,5,9,4],[3,8,4,7], [4,9,3,8]])"
   ]
  },
  {
   "cell_type": "code",
   "execution_count": 15,
   "id": "ecb29d5c-b9f9-454a-bef1-b994712cde5b",
   "metadata": {},
   "outputs": [
    {
     "data": {
      "text/plain": [
       "0    3.0\n",
       "1    8.0\n",
       "2    4.0\n",
       "3    7.0\n",
       "dtype: float64"
      ]
     },
     "execution_count": 15,
     "metadata": {},
     "output_type": "execute_result"
    }
   ],
   "source": [
    "df.median() #=axis=0"
   ]
  },
  {
   "cell_type": "code",
   "execution_count": 16,
   "id": "926c6993-0bdb-4e7f-a5a5-1f839d8e24ba",
   "metadata": {},
   "outputs": [
    {
     "data": {
      "text/plain": [
       "0    4.5\n",
       "1    5.5\n",
       "2    6.0\n",
       "dtype: float64"
      ]
     },
     "execution_count": 16,
     "metadata": {},
     "output_type": "execute_result"
    }
   ],
   "source": [
    "df.median(axis=1)"
   ]
  },
  {
   "cell_type": "markdown",
   "id": "df5be179-094b-4088-8343-b0c04507fb93",
   "metadata": {},
   "source": [
    "### Mode\n",
    "Most repetitive value in a data set."
   ]
  },
  {
   "cell_type": "code",
   "execution_count": null,
   "id": "d7e01048-bdcf-4781-b61f-80833382b6d0",
   "metadata": {},
   "outputs": [],
   "source": []
  }
 ],
 "metadata": {
  "kernelspec": {
   "display_name": "Python 3 (ipykernel)",
   "language": "python",
   "name": "python3"
  },
  "language_info": {
   "codemirror_mode": {
    "name": "ipython",
    "version": 3
   },
   "file_extension": ".py",
   "mimetype": "text/x-python",
   "name": "python",
   "nbconvert_exporter": "python",
   "pygments_lexer": "ipython3",
   "version": "3.10.13"
  }
 },
 "nbformat": 4,
 "nbformat_minor": 5
}
